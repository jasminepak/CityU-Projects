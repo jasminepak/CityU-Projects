{
  "nbformat": 4,
  "nbformat_minor": 0,
  "metadata": {
    "colab": {
      "name": "MA4550-THA-ONE.ipynb",
      "provenance": [],
      "collapsed_sections": []
    },
    "kernelspec": {
      "name": "python3",
      "display_name": "Python 3"
    }
  },
  "cells": [
    {
      "cell_type": "markdown",
      "metadata": {
        "id": "fH74O7mJKJMk"
      },
      "source": [
        "#MA4550: THA-ONE<br>\r\n",
        "\r\n",
        "Url:\r\n",
        "https://colab.research.google.com/drive/1i5SOw8DempQ1E2Q_9_oD1aPnfyy9GKMC?authuser=1#scrollTo=fH74O7mJKJMk\r\n",
        "\r\n",
        "Email: jasminepak00@gmail.com<br/>\r\n",
        "Name: PAK KA YEE<br/>\r\n",
        "SID: 55692027 <br/>\r\n",
        "\r\n",
        "**Question 1:**\r\n",
        "A desktop computer named MA4550DC has the following specification: **quad-core**, 24GB RAM, **2.5 GHz**, and each core has **8 floating units** (perform 8 DP operations in one clock cycle). What is the theoretical double precision peak performance of the desktop in FLOPS?<br/>\r\n",
        "\r\n",
        "<u>Answer 1</u><br/>\r\n",
        "\r\n",
        "Cores: 4 <br/>\r\n",
        "Number per second: 2.5 GHz<br/>\r\n",
        "Double-Precision Floating Point Operation per Cycle: 8<br/>\r\n",
        "The theoretical double precision peak performance: 4\\*2.5\\*8=80 GFLOPS<br/><br/>\r\n"
      ]
    },
    {
      "cell_type": "code",
      "metadata": {
        "colab": {
          "base_uri": "https://localhost:8080/"
        },
        "id": "YIYlMl-at1II",
        "outputId": "7432dbed-5e47-4283-8532-1fa17c94fb22"
      },
      "source": [
        "4*2.5*8"
      ],
      "execution_count": 6,
      "outputs": [
        {
          "output_type": "execute_result",
          "data": {
            "text/plain": [
              "80.0"
            ]
          },
          "metadata": {
            "tags": []
          },
          "execution_count": 6
        }
      ]
    },
    {
      "cell_type": "markdown",
      "metadata": {
        "id": "p-bAoFEGtlp6"
      },
      "source": [
        "**Question 2:**\r\n",
        "Given **A** is a **M x K** matrix, **B** is a **K x N** matrix, what is <u>the number of floating point operation (FLOP) of A x B<u/>?<br/>\r\n",
        "\r\n",
        "</u>Answer 2</u><br/>\r\n",
        "MN\\*(2K-1) FLOPS<br/><br/>\r\n",
        "\r\n",
        "**Question 3**\r\n",
        "Given M=K=N for A and B, what is the **maximum dimension N** that MA4550DC can hold?<br/>\r\n",
        "\r\n",
        "<u>Answer 3</u><br/>\r\n",
        "\r\n",
        "24GB RAM<br/>\r\n",
        "Double-Precision Floating Point Operation per Cycle: 8<br/>\r\n",
        "For square matrices A and B, the maximum dimension N is the square root of **24G/8**, which is square root of **3G** ≈ 54772.2557505166, which is **N=54772**."
      ]
    },
    {
      "cell_type": "code",
      "metadata": {
        "colab": {
          "base_uri": "https://localhost:8080/"
        },
        "id": "Moz1GJiq1nGh",
        "outputId": "93fda4da-8e4c-4ebb-ada3-41a3279ab632"
      },
      "source": [
        "## question 3\r\n",
        "import math\r\n",
        "math.sqrt(3e9)"
      ],
      "execution_count": null,
      "outputs": [
        {
          "output_type": "execute_result",
          "data": {
            "text/plain": [
              "54772.25575051661"
            ]
          },
          "metadata": {
            "tags": []
          },
          "execution_count": 4
        }
      ]
    },
    {
      "cell_type": "markdown",
      "metadata": {
        "id": "dvP1aIj81uSr"
      },
      "source": [
        "**Question 4:**\r\n",
        "Based on the answer above, what is the time needed to compute C=A x B if **90% of the theoretical rate** of MA4550DC can be attained for the BLAS3 operation?\r\n",
        "\r\n",
        "<u>Answer 4</u><br/>\r\n",
        "The matrix size: n=54772<br/>\r\n",
        "BLAS3 operation: <br/>\r\n",
        "*   For memory refernce: 4n^2 operation\r\n",
        "*   For folating point calculation: 2n^3 operation\r\n",
        "\r\n",
        "Total number of FLOP: 4n^2 + 2n^3 = 4*(54772^2) + 3(54772^2) = 4∗3G+2∗164,314G = 328,640 GFLOP<br/>\r\n",
        "The 90% of the theoretical rate of MA4550DC = 328,640 GFLOP/(80*0.9) = 4,565 s ≈ 1.2679 hour."
      ]
    },
    {
      "cell_type": "code",
      "metadata": {
        "colab": {
          "base_uri": "https://localhost:8080/"
        },
        "id": "48EFUxQm_x2a",
        "outputId": "e87f7904-fd27-4014-ae6f-98e099e9317a"
      },
      "source": [
        "n = 54772\r\n",
        "flop = (4*(n**2) + 2*(n**3)) \r\n",
        "time = flop / (80e9 *0.9)\r\n",
        "time_in_hour = time / 3600\r\n",
        "print(f'Flop: {flop} operations, time: {time_in_hour:.5} hour.')\r\n"
      ],
      "execution_count": null,
      "outputs": [
        {
          "output_type": "stream",
          "text": [
            "Flop: 328640930903232 operations, time: 1.2679 hour.\n"
          ],
          "name": "stdout"
        }
      ]
    },
    {
      "cell_type": "markdown",
      "metadata": {
        "id": "igdN4493_wFg"
      },
      "source": [
        "\r\n",
        "**Question 5:**\r\n",
        "Write a **python code** to compute C = A x B and **plot a curve** of the FLOPS against the matrix size N when the computation is done on a **CPU**. Do the same on the **GPU**.\r\n",
        "\r\n",
        "<u>Answer 5</u><br/>"
      ]
    },
    {
      "cell_type": "code",
      "metadata": {
        "colab": {
          "base_uri": "https://localhost:8080/",
          "height": 295
        },
        "id": "X2cYFw9VDa_X",
        "outputId": "ac6f875e-adbb-428f-e8e4-ecbd525b487f"
      },
      "source": [
        " ## question 5\r\n",
        "import tensorflow as tf\r\n",
        "from matplotlib import pyplot as plt\r\n",
        "import time\r\n",
        "import numpy as np\r\n",
        "\r\n",
        "cpu = []\r\n",
        "gpu = []\r\n",
        "N = [500, 1000, 2000, 4000]\r\n",
        "\r\n",
        "# TensorFlow on CPU\r\n",
        "with tf.device('/CPU:0'):\r\n",
        "    for n in N:\r\n",
        "      # create two random \r\n",
        "      A = tf.random.uniform(shape=[n,n])\r\n",
        "      B = tf.random.uniform(shape=[n,n])\r\n",
        "\r\n",
        "      start_time = time.time()\r\n",
        "      C = A * B\r\n",
        "      end_time = time.time()\r\n",
        "      diff_time = end_time - start_time\r\n",
        "\r\n",
        "      flops = (n*(n-1) * n*n) / diff_time\r\n",
        "\r\n",
        "      cpu.append(flops)\r\n",
        "\r\n",
        "# TensorFlow on GPU\r\n",
        "with tf.device('/GPU:0'):\r\n",
        "    for n in N:\r\n",
        "      # create two random \r\n",
        "      A = tf.random.uniform(shape=[n,n])\r\n",
        "      B = tf.random.uniform(shape=[n,n])\r\n",
        "\r\n",
        "      start_time = time.time()\r\n",
        "      C = A * B\r\n",
        "      end_time = time.time()\r\n",
        "      diff_time = end_time - start_time\r\n",
        "\r\n",
        "      flops = (n*(n-1) * n*n) / diff_time\r\n",
        "\r\n",
        "      gpu.append(flops)\r\n",
        "\r\n",
        "plt.plot(\r\n",
        "    np.array([cpu, gpu]).T\r\n",
        ")\r\n",
        "plt.legend(['CPU', 'GPU'])\r\n",
        "\r\n",
        "plt.title('Plot of FLOPS against time (in GPU)')\r\n",
        "plt.ylabel('FLOPS')\r\n",
        "plt.xlabel('Matrix Size');"
      ],
      "execution_count": null,
      "outputs": [
        {
          "output_type": "display_data",
          "data": {
            "image/png": "[encoded data removed]",
            "text/plain": [
              "<Figure size 432x288 with 1 Axes>"
            ]
          },
          "metadata": {
            "tags": [],
            "needs_background": "light"
          }
        }
      ]
    },
    {
      "cell_type": "markdown",
      "metadata": {
        "id": "O6CfO_KFrcwV"
      },
      "source": [
        "References:\r\n",
        "\r\n",
        "\r\n",
        "1. https://blog.csdn.net/dcrmg/article/details/79747882\r\n",
        "2. https://colab.research.google.com/drive/1Ldu-QVs-7I49HUwDdlGLYMjIZqc___aU?authuser=1\r\n",
        "\r\n"
      ]
    }
  ]
}